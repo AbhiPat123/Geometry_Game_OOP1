{
  "nbformat": 4,
  "nbformat_minor": 0,
  "metadata": {
    "colab": {
      "provenance": []
    },
    "kernelspec": {
      "name": "python3",
      "display_name": "Python 3"
    },
    "language_info": {
      "name": "python"
    }
  },
  "cells": [
    {
      "cell_type": "code",
      "execution_count": 67,
      "metadata": {
        "id": "s8DZjcSDjji5"
      },
      "outputs": [],
      "source": [
        "# Class naming:\n",
        "#   1. Capital in beginning\n",
        "#   2. Camel Case\n",
        "class Point:\n",
        "    \n",
        "    def __init__(self, x, y):\n",
        "        self.x = x\n",
        "        self.y = y\n",
        "\n",
        "    # name the methods starting with verbs\n",
        "    # when calling this it looks like point1.falls_in_rectangle() - more readable\n",
        "    def falls_in_rectangle(self, rectangle):\n",
        "        if rectangle.point1.x < self.x < rectangle.point2.x \\\n",
        "                and rectangle.point1.y < self.y < rectangle.point2.y:\n",
        "            return True\n",
        "        else:\n",
        "            return False\n",
        "\n",
        "    def distance_from_point(self, point):\n",
        "        if self.x == point.x:\n",
        "            return abs(point.y-self.y)\n",
        "        elif self.y == point.y:\n",
        "            return abs(point.x-self.x)\n",
        "        else:\n",
        "            x_dist_sqrd = (self.x - point.x)**2\n",
        "            y_dist_sqrd = (self.y - point.y)**2\n",
        "            return (x_dist_sqrd + y_dist_sqrd)**0.5"
      ]
    },
    {
      "cell_type": "code",
      "source": [
        "point1 = Point(12,10)\n",
        "point2 = Point(15,100)"
      ],
      "metadata": {
        "id": "6YZNJRbOjsd-"
      },
      "execution_count": 68,
      "outputs": []
    },
    {
      "cell_type": "code",
      "source": [
        "point1.distance_from_point(point2)"
      ],
      "metadata": {
        "id": "PzVFGO44jvTR",
        "colab": {
          "base_uri": "https://localhost:8080/"
        },
        "outputId": "0414d3c2-36fc-4876-d49b-12b215abaa6f"
      },
      "execution_count": 69,
      "outputs": [
        {
          "output_type": "execute_result",
          "data": {
            "text/plain": [
              "90.0499861188218"
            ]
          },
          "metadata": {},
          "execution_count": 69
        }
      ]
    },
    {
      "cell_type": "code",
      "source": [
        "class Rectangle:\n",
        "\n",
        "    def __init__(self, point1, point2):\n",
        "        self.point1 = point1\n",
        "        self.point2 = point2\n",
        "        \n",
        "    def area(self):\n",
        "        return (self.point2.x - self.point1.x) * \\\n",
        "               (self.point2.y - self.point1.y)"
      ],
      "metadata": {
        "id": "_bxpiUwxBCFD"
      },
      "execution_count": 70,
      "outputs": []
    },
    {
      "cell_type": "code",
      "source": [
        "rectangle1 = Rectangle(Point(9,9), Point(15,27))"
      ],
      "metadata": {
        "id": "meveB8sGF6M0"
      },
      "execution_count": 71,
      "outputs": []
    },
    {
      "cell_type": "code",
      "source": [
        "point1.falls_in_rectangle(rectangle1)"
      ],
      "metadata": {
        "colab": {
          "base_uri": "https://localhost:8080/"
        },
        "id": "PFxpDf5QGyZw",
        "outputId": "afd46bd6-2064-4f9e-f826-181243b4bb39"
      },
      "execution_count": 72,
      "outputs": [
        {
          "output_type": "execute_result",
          "data": {
            "text/plain": [
              "True"
            ]
          },
          "metadata": {},
          "execution_count": 72
        }
      ]
    },
    {
      "cell_type": "code",
      "source": [
        "from random import randint"
      ],
      "metadata": {
        "id": "ZXbzvxxOHBYQ"
      },
      "execution_count": 73,
      "outputs": []
    },
    {
      "cell_type": "code",
      "source": [
        "# Guess coordinates\n",
        "rectangle = Rectangle(Point(randint(0,9),randint(0,9)), Point(randint(10,19), randint(10,19)))\n",
        "print(\"Rectangle Coordinates:\", rectangle.point1.x, rectangle.point1.y, \"and\", rectangle.point2.x, rectangle.point2.y)\n",
        "\n",
        "user_point = Point(float(input(\"Guess X: \")), float(input(\"Guess Y: \")))\n",
        "\n",
        "print(\"Is your point in rectangle? -\", user_point.falls_in_rectangle(rectangle))"
      ],
      "metadata": {
        "colab": {
          "base_uri": "https://localhost:8080/"
        },
        "id": "FyzRe73rOG2h",
        "outputId": "deca1aed-d891-4ae3-f920-3996d01972cb"
      },
      "execution_count": 74,
      "outputs": [
        {
          "output_type": "stream",
          "name": "stdout",
          "text": [
            "Rectangle Coordinates: 5 5 and 10 10\n",
            "Guess X: 6\n",
            "Guess Y: 3\n",
            "Is your point in rectangle? - False\n"
          ]
        }
      ]
    },
    {
      "cell_type": "code",
      "source": [
        "# Guess area\n",
        "user_area = float(input(\"Guess Rectangle Area: \"))\n",
        "\n",
        "guess_diff = round(abs(rectangle.area()-user_area))\n",
        "print(\"Your area value guess is\", int(user_area), \"off by\", guess_diff)\n",
        "if guess_diff == 0:\n",
        "    print(\"Great, on the point!\")"
      ],
      "metadata": {
        "colab": {
          "base_uri": "https://localhost:8080/"
        },
        "id": "lqy4HgnsPFov",
        "outputId": "aadfca99-d876-490a-d796-1080dd5e6d7d"
      },
      "execution_count": 75,
      "outputs": [
        {
          "output_type": "stream",
          "name": "stdout",
          "text": [
            "Guess Rectangle Area: 0\n",
            "Your area value guess is 0 off by 25\n"
          ]
        }
      ]
    },
    {
      "cell_type": "code",
      "source": [],
      "metadata": {
        "id": "uT1AS0E_Qbyn"
      },
      "execution_count": 61,
      "outputs": []
    }
  ]
}